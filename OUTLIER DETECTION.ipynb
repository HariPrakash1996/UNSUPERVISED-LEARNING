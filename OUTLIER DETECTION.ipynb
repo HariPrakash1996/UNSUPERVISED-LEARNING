{
 "cells": [
  {
   "cell_type": "markdown",
   "metadata": {},
   "source": [
    "# What is Outlier?\n",
    "* An outlier is an observation that is numerically distant from the rest of the data or, in a nutshell, is the value that is out of range. Let’s take an example to check what happens to a dataset with a dataset without outliers.\n",
    "\n",
    "\n",
    "* Let’s take a concrete example of an outlier. In a company of 50 employees, 45 people with a monthly salary of Rs. 6000, 5 seniors with a monthly salary of Rs. 100000 each. If you calculate the average monthly salary of the employees of the company is 14,500 rupees, which will give you a bad conclusion.\n",
    "\n",
    "* But if you take the median salary, it is Rs.6000 which is more sensitive than the average. For this reason, the median is an appropriate measure for the mean. Here you can see the effect of an outlier.\n",
    "\n",
    "* Now let’s have a quick look at the main causes of outliers before getting started with the task of outlier detection:\n",
    "\n",
    "* 1.Data Entry Errors: Human errors such as errors caused during data collection, recording, or entry can cause outliers in ata.\n",
    "* 2.Measurement Errors: It is the most common source of outliers. This is caused when the measurement instrument used turns out to be faulty.\n",
    "* 3.Natural Outliers: When an outlier is not artificial (due to error), it is a natural outlier. Most real-world data belong to this category.\n",
    "\n",
    "# Outlier Detection in Machine Learning using Hypothesis Testing\n",
    "* Now, I will use the Python programming language for the task of outlier detection in machine learning.\n",
    "\n",
    "* An outlier can be of two types: Univariate and Multivariate. Above, we have discussed the example of a univariate outlier. These outliers can be found when we look at the distribution of a single variable. Multivariate outliers are outliers in an n-dimensional space.\n",
    "\n",
    "* An outlier can be of two types: univariate and multivariate. Above we have discussed the example of a univariate outlier. These outliers can be found when we look at the distribution of a single variable. Multivariate outliers are outliers in an n-dimensional space.\n",
    "\n",
    "* Hypothesis testing is a common technique for detecting outliers in machine learning. Hypothesis testing is a method of testing a claim or hypothesis about a parameter in a population, using data measured in a sample. In this method, we test a hypothesis by determining the probability that a sample statistic could have been selected, if the hypothesis regarding the population parameter was true.\n",
    "\n",
    "* The purpose of the hypothesis test is to determine the probability that a population parameter, such as the mean, is likely to be true. There are four steps in the hypothesis test:\n",
    "\n",
    "\n",
    " \n",
    "* 1.State the assumptions.\n",
    "* 2.Define the criteria for a decision.\n",
    "* 3.Calculate the test statistic.\n",
    "* 4.Make a decision.\n",
    "* Now let’s see how to use the Python programming language to implement the hypothesis testing for the task of Outlier Detection in Machine Learning:\n",
    "\n"
   ]
  },
  {
   "cell_type": "code",
   "execution_count": 1,
   "metadata": {},
   "outputs": [
    {
     "name": "stdout",
     "output_type": "stream",
     "text": [
      "Grubbs Calculated Value: 1.4274928542926593\n",
      "Grubbs Critical Value: 1.887145117792422\n",
      "From grubbs_test we observe that calculated value is lesser than critical value, Accept null hypothesis and conclude that there is no outliers\n",
      "\n",
      "Grubbs Calculated Value: 2.2765147221587774\n",
      "Grubbs Critical Value: 2.019968507680656\n",
      "From grubbs_test we observe that calculated value is greater than critical value, Reject null hypothesis and conclude that there is an outliers\n",
      "\n"
     ]
    }
   ],
   "source": [
    "import numpy as np\n",
    "import scipy.stats as stats\n",
    "x = np.array([12,13,14,19,21,23])\n",
    "y = np.array([12,13,14,19,21,23,45])\n",
    "def grubbs_test(x):\n",
    "    n = len(x)\n",
    "    mean_x = np.mean(x)\n",
    "    sd_x = np.std(x)\n",
    "    numerator = max(abs(x-mean_x))\n",
    "    g_calculated = numerator/sd_x\n",
    "    print(\"Grubbs Calculated Value:\",g_calculated)\n",
    "    t_value = stats.t.ppf(1 - 0.05 / (2 * n), n - 2)\n",
    "    g_critical = ((n - 1) * np.sqrt(np.square(t_value))) / (np.sqrt(n) * np.sqrt(n - 2 + np.square(t_value)))\n",
    "    print(\"Grubbs Critical Value:\",g_critical)\n",
    "    if g_critical > g_calculated:\n",
    "        print(\"From grubbs_test we observe that calculated value is lesser than critical value, Accept null hypothesis and conclude that there is no outliers\\n\")\n",
    "    else:\n",
    "        print(\"From grubbs_test we observe that calculated value is greater than critical value, Reject null hypothesis and conclude that there is an outliers\\n\")\n",
    "grubbs_test(x)\n",
    "grubbs_test(y)"
   ]
  },
  {
   "cell_type": "code",
   "execution_count": null,
   "metadata": {},
   "outputs": [],
   "source": []
  }
 ],
 "metadata": {
  "kernelspec": {
   "display_name": "Python 3",
   "language": "python",
   "name": "python3"
  },
  "language_info": {
   "codemirror_mode": {
    "name": "ipython",
    "version": 3
   },
   "file_extension": ".py",
   "mimetype": "text/x-python",
   "name": "python",
   "nbconvert_exporter": "python",
   "pygments_lexer": "ipython3",
   "version": "3.8.5"
  }
 },
 "nbformat": 4,
 "nbformat_minor": 4
}
